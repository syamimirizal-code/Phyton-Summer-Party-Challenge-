{
  "cells": [
    {
      "cell_type": "markdown",
      "metadata": {},
      "source": [
        "# Day 1: WhatsApp Group Size Engagement Analysis"
      ]
    },
    {
      "cell_type": "markdown",
      "metadata": {},
      "source": [
        "You are a Product Analyst on the WhatsApp team investigating group messaging dynamics. Your team wants to understand how large groups are being used and their messaging patterns. You'll leverage data to uncover insights about group participation and communication behaviors."
      ]
    },
    {
      "cell_type": "code",
      "metadata": {},
      "execution_count": null,
      "outputs": [],
      "source": "import pandas as pd\nimport numpy as np\n\ndim_groups_data = [\n  {\n    \"group_id\": 1,\n    \"created_date\": \"2024-10-01\",\n    \"total_messages\": 100,\n    \"participant_count\": 25\n  },\n  {\n    \"group_id\": 2,\n    \"created_date\": \"2024-10-10\",\n    \"total_messages\": 200,\n    \"participant_count\": 55\n  },\n  {\n    \"group_id\": 3,\n    \"created_date\": \"2024-11-05\",\n    \"total_messages\": 150,\n    \"participant_count\": 40\n  },\n  {\n    \"group_id\": 4,\n    \"created_date\": \"2024-10-15\",\n    \"total_messages\": 500,\n    \"participant_count\": 100\n  },\n  {\n    \"group_id\": 5,\n    \"created_date\": \"2024-12-01\",\n    \"total_messages\": 120,\n    \"participant_count\": 35\n  },\n  {\n    \"group_id\": 6,\n    \"created_date\": \"2024-10-20\",\n    \"total_messages\": 300,\n    \"participant_count\": 50\n  },\n  {\n    \"group_id\": 7,\n    \"created_date\": \"2024-10-25\",\n    \"total_messages\": 400,\n    \"participant_count\": 60\n  },\n  {\n    \"group_id\": 8,\n    \"created_date\": \"2024-11-10\",\n    \"total_messages\": 220,\n    \"participant_count\": 45\n  },\n  {\n    \"group_id\": 9,\n    \"created_date\": \"2024-10-30\",\n    \"total_messages\": 450,\n    \"participant_count\": 80\n  },\n  {\n    \"group_id\": 10,\n    \"created_date\": \"2024-12-15\",\n    \"total_messages\": 80,\n    \"participant_count\": 15\n  },\n  {\n    \"group_id\": 11,\n    \"created_date\": \"2024-10-05\",\n    \"total_messages\": 600,\n    \"participant_count\": 90\n  },\n  {\n    \"group_id\": 12,\n    \"created_date\": \"2024-10-12\",\n    \"total_messages\": 50,\n    \"participant_count\": 10\n  }\n]\ndim_groups = pd.DataFrame(dim_groups_data)\n"
    },
    {
      "cell_type": "markdown",
      "metadata": {},
      "source": [
        "## Question 1\n\nWhat is the maximum number of participants among WhatsApp groups that were created in October 2024? This metric will help us understand the largest group size available."
      ]
    },
    {
      "cell_type": "code",
      "metadata": {},
      "execution_count": null,
      "outputs": [],
      "source": "# Note: pandas and numpy are already imported as pd and np\n# The following tables are loaded as pandas DataFrames with the same names: dim_groups\n# Please print your final result or dataframe\n\nimport pandas as pd\n\ndim_groups['created_date'] = pd.to_datetime(dim_groups['created_date'])\n\noctober_groups = dim_groups[\n    (dim_groups['created_date'].dt.year == 2024) &\n    (dim_groups['created_date'].dt.month == 10)\n]\n\nmax_participants = october_groups['participant_count'].max()\n\nprint(f\"The maximum number of participants in WhatsApp groups created in Oct 2024 is: {max_participants}\")"
    },
    {
      "cell_type": "markdown",
      "metadata": {},
      "source": [
        "## Question 2\n\nWhat is the average number of participants in WhatsApp groups that were created in October 2024? This number will indicate the typical group size and inform our group messaging feature considerations."
      ]
    },
    {
      "cell_type": "code",
      "metadata": {},
      "execution_count": null,
      "outputs": [],
      "source": "dim_groups['created_date'] = pd.to_datetime(dim_groups['created_date'])\n\noctober_groups = dim_groups[\n    (dim_groups['created_date'].dt.year == 2024) &\n    (dim_groups['created_date'].dt.month == 10)\n]\naverage_participants = october_groups['participant_count'].mean()\n\nprint(f\"The average number of participants in WhatsApp groups were created in Oct 2024 is: {average_participants}\")"
    },
    {
      "cell_type": "markdown",
      "metadata": {},
      "source": [
        "## Question 3\n\nFor WhatsApp groups with more than 50 participants that were created in October 2024, what is the average number of messages sent? This insight will help assess engagement in larger groups and support recommendations for group messaging features."
      ]
    },
    {
      "cell_type": "code",
      "metadata": {},
      "execution_count": null,
      "outputs": [],
      "source": "dim_groups['created_date'] = pd.to_datetime(dim_groups['created_date'])\n\nlarge_october_groups = dim_groups[\n    (dim_groups['created_date'].dt.year == 2024) &\n    (dim_groups['created_date'].dt.month == 10) &\n    (dim_groups['participant_count'] > 50)\n]\n\n\naverage_messages = large_october_groups['total_messages'].mean()\n\n\nprint(f\"The average number of total messages sent for WhatsApp groups with more than 50 participants created in Oct 2024 is: {average_messages:.2f}\")"
    },
    {
      "cell_type": "markdown",
      "metadata": {},
      "source": [
        "Made with ❤️ by [Interview Master](https://www.interviewmaster.ai)"
      ]
    }
  ],
  "metadata": {
    "kernelspec": {
      "name": "python3",
      "language": "python",
      "display_name": "Python 3"
    },
    "language_info": {
      "name": "python",
      "version": "3",
      "mimetype": "text/x-python",
      "file_extension": ".py"
    }
  },
  "nbformat": 4,
  "nbformat_minor": 5
}