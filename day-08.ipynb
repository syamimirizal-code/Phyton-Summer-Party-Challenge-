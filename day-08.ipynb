{
  "cells": [
    {
      "cell_type": "markdown",
      "metadata": {},
      "source": [
        "# Day 8: Payment Method Impact on Athleisure Online Sales"
      ]
    },
    {
      "cell_type": "markdown",
      "metadata": {},
      "source": [
        "You are a Product Analyst for the Lululemon Online Store team investigating how alternative payment methods might influence sales performance. The team wants to understand the potential impact of introducing a new installment payment option. Your analysis will predict sales lift and customer conversion for the proposed payment method."
      ]
    },
    {
      "cell_type": "code",
      "metadata": {},
      "execution_count": null,
      "outputs": [],
      "source": "import pandas as pd\nimport numpy as np\n\nfct_transactions_data = [\n  {\n    \"customer_id\": 201,\n    \"order_value\": 250,\n    \"payment_method\": \"credit_card\",\n    \"transaction_id\": 1,\n    \"transaction_date\": \"2025-03-15\"\n  },\n  {\n    \"customer_id\": 202,\n    \"order_value\": 95,\n    \"payment_method\": \"debit_card\",\n    \"transaction_id\": 2,\n    \"transaction_date\": \"2025-03-20\"\n  },\n  {\n    \"customer_id\": 203,\n    \"order_value\": 75,\n    \"payment_method\": \"paypal\",\n    \"transaction_id\": 3,\n    \"transaction_date\": \"2025-03-25\"\n  },\n  {\n    \"customer_id\": 204,\n    \"order_value\": 310,\n    \"payment_method\": \"credit_card\",\n    \"transaction_id\": 4,\n    \"transaction_date\": \"2024-11-10\"\n  },\n  {\n    \"customer_id\": 205,\n    \"order_value\": 65,\n    \"payment_method\": \"paypal\",\n    \"transaction_id\": 5,\n    \"transaction_date\": \"2024-12-05\"\n  },\n  {\n    \"customer_id\": 206,\n    \"order_value\": 265,\n    \"payment_method\": \"credit_card\",\n    \"transaction_id\": 6,\n    \"transaction_date\": \"2024-07-15\"\n  },\n  {\n    \"customer_id\": 207,\n    \"order_value\": 290,\n    \"payment_method\": \"credit_card\",\n    \"transaction_id\": 7,\n    \"transaction_date\": \"2024-08-10\"\n  },\n  {\n    \"customer_id\": 208,\n    \"order_value\": 275,\n    \"payment_method\": \"credit_card\",\n    \"transaction_id\": 8,\n    \"transaction_date\": \"2024-09-05\"\n  },\n  {\n    \"customer_id\": 209,\n    \"order_value\": 280,\n    \"payment_method\": \"credit_card\",\n    \"transaction_id\": 9,\n    \"transaction_date\": \"2024-10-20\"\n  },\n  {\n    \"customer_id\": 210,\n    \"order_value\": 90,\n    \"payment_method\": \"debit_card\",\n    \"transaction_id\": 10,\n    \"transaction_date\": \"2024-10-25\"\n  },\n  {\n    \"customer_id\": 101,\n    \"order_value\": 275,\n    \"payment_method\": \"credit_card\",\n    \"transaction_id\": 11,\n    \"transaction_date\": \"2025-04-02\"\n  },\n  {\n    \"customer_id\": 102,\n    \"order_value\": 285,\n    \"payment_method\": \"credit_card\",\n    \"transaction_id\": 12,\n    \"transaction_date\": \"2025-04-05\"\n  },\n  {\n    \"customer_id\": 103,\n    \"order_value\": 280,\n    \"payment_method\": \"credit_card\",\n    \"transaction_id\": 13,\n    \"transaction_date\": \"2025-04-10\"\n  },\n  {\n    \"customer_id\": 104,\n    \"order_value\": 290,\n    \"payment_method\": \"credit_card\",\n    \"transaction_id\": 14,\n    \"transaction_date\": \"2025-04-15\"\n  },\n  {\n    \"customer_id\": 105,\n    \"order_value\": 270,\n    \"payment_method\": \"credit_card\",\n    \"transaction_id\": 15,\n    \"transaction_date\": \"2025-04-20\"\n  },\n  {\n    \"customer_id\": 106,\n    \"order_value\": 295,\n    \"payment_method\": \"credit_card\",\n    \"transaction_id\": 16,\n    \"transaction_date\": \"2025-04-25\"\n  },\n  {\n    \"customer_id\": 107,\n    \"order_value\": 280,\n    \"payment_method\": \"credit_card\",\n    \"transaction_id\": 17,\n    \"transaction_date\": \"2025-05-01\"\n  },\n  {\n    \"customer_id\": 108,\n    \"order_value\": 275,\n    \"payment_method\": \"credit_card\",\n    \"transaction_id\": 18,\n    \"transaction_date\": \"2025-05-05\"\n  },\n  {\n    \"customer_id\": 109,\n    \"order_value\": 285,\n    \"payment_method\": \"credit_card\",\n    \"transaction_id\": 19,\n    \"transaction_date\": \"2025-05-10\"\n  },\n  {\n    \"customer_id\": 110,\n    \"order_value\": 290,\n    \"payment_method\": \"credit_card\",\n    \"transaction_id\": 20,\n    \"transaction_date\": \"2025-05-15\"\n  },\n  {\n    \"customer_id\": 111,\n    \"order_value\": 270,\n    \"payment_method\": \"credit_card\",\n    \"transaction_id\": 21,\n    \"transaction_date\": \"2025-05-20\"\n  },\n  {\n    \"customer_id\": 112,\n    \"order_value\": 280,\n    \"payment_method\": \"credit_card\",\n    \"transaction_id\": 22,\n    \"transaction_date\": \"2025-05-25\"\n  },\n  {\n    \"customer_id\": 113,\n    \"order_value\": 295,\n    \"payment_method\": \"credit_card\",\n    \"transaction_id\": 23,\n    \"transaction_date\": \"2025-05-30\"\n  },\n  {\n    \"customer_id\": 114,\n    \"order_value\": 285,\n    \"payment_method\": \"credit_card\",\n    \"transaction_id\": 24,\n    \"transaction_date\": \"2025-06-01\"\n  },\n  {\n    \"customer_id\": 115,\n    \"order_value\": 280,\n    \"payment_method\": \"credit_card\",\n    \"transaction_id\": 25,\n    \"transaction_date\": \"2025-06-05\"\n  },\n  {\n    \"customer_id\": 116,\n    \"order_value\": 275,\n    \"payment_method\": \"credit_card\",\n    \"transaction_id\": 26,\n    \"transaction_date\": \"2025-06-10\"\n  },\n  {\n    \"customer_id\": 117,\n    \"order_value\": 285,\n    \"payment_method\": \"credit_card\",\n    \"transaction_id\": 27,\n    \"transaction_date\": \"2025-06-15\"\n  },\n  {\n    \"customer_id\": 118,\n    \"order_value\": 290,\n    \"payment_method\": \"credit_card\",\n    \"transaction_id\": 28,\n    \"transaction_date\": \"2025-06-20\"\n  },\n  {\n    \"customer_id\": 119,\n    \"order_value\": 270,\n    \"payment_method\": \"credit_card\",\n    \"transaction_id\": 29,\n    \"transaction_date\": \"2025-06-25\"\n  },\n  {\n    \"customer_id\": 120,\n    \"order_value\": 280,\n    \"payment_method\": \"credit_card\",\n    \"transaction_id\": 30,\n    \"transaction_date\": \"2025-06-30\"\n  },\n  {\n    \"customer_id\": 121,\n    \"order_value\": 275,\n    \"payment_method\": \"credit_card\",\n    \"transaction_id\": 31,\n    \"transaction_date\": \"2025-04-08\"\n  },\n  {\n    \"customer_id\": 122,\n    \"order_value\": 285,\n    \"payment_method\": \"credit_card\",\n    \"transaction_id\": 32,\n    \"transaction_date\": \"2025-04-18\"\n  },\n  {\n    \"customer_id\": 123,\n    \"order_value\": 290,\n    \"payment_method\": \"credit_card\",\n    \"transaction_id\": 33,\n    \"transaction_date\": \"2025-05-08\"\n  },\n  {\n    \"customer_id\": 124,\n    \"order_value\": 280,\n    \"payment_method\": \"credit_card\",\n    \"transaction_id\": 34,\n    \"transaction_date\": \"2025-05-18\"\n  },\n  {\n    \"customer_id\": 125,\n    \"order_value\": 275,\n    \"payment_method\": \"credit_card\",\n    \"transaction_id\": 35,\n    \"transaction_date\": \"2025-06-08\"\n  },\n  {\n    \"customer_id\": 126,\n    \"order_value\": 92,\n    \"payment_method\": \"debit_card\",\n    \"transaction_id\": 36,\n    \"transaction_date\": \"2025-04-07\"\n  },\n  {\n    \"customer_id\": 127,\n    \"order_value\": 88,\n    \"payment_method\": \"debit_card\",\n    \"transaction_id\": 37,\n    \"transaction_date\": \"2025-04-12\"\n  },\n  {\n    \"customer_id\": 128,\n    \"order_value\": 90,\n    \"payment_method\": \"debit_card\",\n    \"transaction_id\": 38,\n    \"transaction_date\": \"2025-04-17\"\n  },\n  {\n    \"customer_id\": 129,\n    \"order_value\": 85,\n    \"payment_method\": \"debit_card\",\n    \"transaction_id\": 39,\n    \"transaction_date\": \"2025-04-22\"\n  },\n  {\n    \"customer_id\": 130,\n    \"order_value\": 95,\n    \"payment_method\": \"debit_card\",\n    \"transaction_id\": 40,\n    \"transaction_date\": \"2025-05-12\"\n  },\n  {\n    \"customer_id\": 131,\n    \"order_value\": 90,\n    \"payment_method\": \"debit_card\",\n    \"transaction_id\": 41,\n    \"transaction_date\": \"2025-05-22\"\n  },\n  {\n    \"customer_id\": 132,\n    \"order_value\": 92,\n    \"payment_method\": \"debit_card\",\n    \"transaction_id\": 42,\n    \"transaction_date\": \"2025-06-15\"\n  },\n  {\n    \"customer_id\": 133,\n    \"order_value\": 88,\n    \"payment_method\": \"debit_card\",\n    \"transaction_id\": 43,\n    \"transaction_date\": \"2025-06-25\"\n  },\n  {\n    \"customer_id\": 134,\n    \"order_value\": 70,\n    \"payment_method\": \"paypal\",\n    \"transaction_id\": 44,\n    \"transaction_date\": \"2025-04-07\"\n  },\n  {\n    \"customer_id\": 135,\n    \"order_value\": 72,\n    \"payment_method\": \"paypal\",\n    \"transaction_id\": 45,\n    \"transaction_date\": \"2025-04-17\"\n  },\n  {\n    \"customer_id\": 136,\n    \"order_value\": 68,\n    \"payment_method\": \"paypal\",\n    \"transaction_id\": 46,\n    \"transaction_date\": \"2025-04-27\"\n  },\n  {\n    \"customer_id\": 137,\n    \"order_value\": 70,\n    \"payment_method\": \"paypal\",\n    \"transaction_id\": 47,\n    \"transaction_date\": \"2025-05-07\"\n  },\n  {\n    \"customer_id\": 138,\n    \"order_value\": 69,\n    \"payment_method\": \"paypal\",\n    \"transaction_id\": 48,\n    \"transaction_date\": \"2025-05-27\"\n  },\n  {\n    \"customer_id\": 139,\n    \"order_value\": 71,\n    \"payment_method\": \"paypal\",\n    \"transaction_id\": 49,\n    \"transaction_date\": \"2025-06-03\"\n  },\n  {\n    \"customer_id\": 140,\n    \"order_value\": 70,\n    \"payment_method\": \"paypal\",\n    \"transaction_id\": 50,\n    \"transaction_date\": \"2025-06-12\"\n  }\n]\nfct_transactions = pd.DataFrame(fct_transactions_data)\n"
    },
    {
      "cell_type": "markdown",
      "metadata": {},
      "source": [
        "## Question 1\n\nBetween April 1st and June 30th, 2025, what is the count of transactions for each payment method? This analysis will establish the baseline distribution of how customers currently pay."
      ]
    },
    {
      "cell_type": "code",
      "metadata": {},
      "execution_count": null,
      "outputs": [],
      "source": "# Filter for Q2 2025\nq2_transactions = fct_transactions[\n    (fct_transactions['transaction_date'] >= '2025-04-01') &\n    (fct_transactions['transaction_date'] <= '2025-06-30')\n]\n\n# Group by payment_method and count transactions\npayment_counts = q2_transactions.groupby('payment_method')['transaction_id'].count().reset_index()\n\n# Rename columns for clarity\npayment_counts.columns = ['payment_method', 'transaction_count']\n\n# (Optional) Sort by count in descending order\npayment_counts = payment_counts.sort_values(by='transaction_count', ascending=False)\n\nprint(payment_counts)"
    },
    {
      "cell_type": "markdown",
      "metadata": {},
      "source": [
        "## Question 2\n\nBetween April 1st and June 30th, 2025, what is the average order value for each payment method? This metric will help us assess which payment methods are tied to higher spending levels."
      ]
    },
    {
      "cell_type": "code",
      "metadata": {},
      "execution_count": null,
      "outputs": [],
      "source": "# Filter for Q2 2025\nq2_transactions = fct_transactions[\n    (fct_transactions['transaction_date'] >= '2025-04-01') &\n    (fct_transactions['transaction_date'] <= '2025-06-30')\n]\n\n# Calculate average order value by payment method\navg_order_value = (\n    q2_transactions.groupby('payment_method')['order_value']\n    .mean()\n    .reset_index()\n)\n\n# Rename column for clarity\navg_order_value.columns = ['payment_method', 'avg_order_value']\n\n# Round for presentation\navg_order_value['avg_order_value'] = avg_order_value['avg_order_value'].round(2)\n\nprint(avg_order_value)"
    },
    {
      "cell_type": "markdown",
      "metadata": {},
      "source": [
        "## Question 3\n\nBetween April 1st and June 30th, 2025, what would be the predicted sales lift if a 'pay over time' option were introduced? Assume that 20% of credit card transactions during this period would switch to using the 'pay over time' option. And that for these switched transactions, the order value is expected to increase by 15% based on the average order value of all credit card transactions in that same time period."
      ]
    },
    {
      "cell_type": "code",
      "metadata": {},
      "execution_count": null,
      "outputs": [],
      "source": "# Filter for Q2 2025\nq2_transactions = fct_transactions[\n    (fct_transactions['transaction_date'] >= '2025-04-01') &\n    (fct_transactions['transaction_date'] <= '2025-06-30')\n]\n\n# Filter credit card transactions\ncredit_card_txn = q2_transactions[q2_transactions['payment_method'] == 'credit_card']\n\n# Step 1: Get average order value for credit card\naov_credit_card = credit_card_txn['order_value'].mean()\n\n# Step 2: Get number of credit card transactions\ncredit_card_count = credit_card_txn.shape[0]\n\n# Step 3: Calculate switched transactions\nswitched_count = 0.20 * credit_card_count\n\n# Step 4: Calculate sales lift per switched transaction\nlift_per_transaction = aov_credit_card * 0.15  # 15% increase\n\n# Step 5: Total predicted sales lift\npredicted_lift = switched_count * lift_per_transaction\n\nprint(f\"AOV (Credit Card): ${aov_credit_card:,.2f}\")\nprint(f\"Credit Card Transactions: {credit_card_count}\")\nprint(f\"Switched Transactions: {switched_count:.0f}\")\nprint(f\"Predicted Sales Lift: ${predicted_lift:,.2f}\")"
    },
    {
      "cell_type": "markdown",
      "metadata": {},
      "source": [
        "Made with ❤️ by [Interview Master](https://www.interviewmaster.ai)"
      ]
    }
  ],
  "metadata": {
    "kernelspec": {
      "name": "python3",
      "language": "python",
      "display_name": "Python 3"
    },
    "language_info": {
      "name": "python",
      "version": "3",
      "mimetype": "text/x-python",
      "file_extension": ".py"
    }
  },
  "nbformat": 4,
  "nbformat_minor": 5
}