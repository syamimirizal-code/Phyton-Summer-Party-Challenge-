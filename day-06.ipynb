{
  "cells": [
    {
      "cell_type": "markdown",
      "metadata": {},
      "source": [
        "# Day 6: Ice Cream Sales Seasonal Performance Assessment"
      ]
    },
    {
      "cell_type": "markdown",
      "metadata": {},
      "source": [
        "You are a Product Insights Analyst working with the Ben & Jerry's sales strategy team to investigate seasonal sales patterns through comprehensive data analysis. The team wants to understand how temperature variations and unique transaction characteristics impact ice cream sales volume. Your goal is to perform detailed data cleaning and exploratory analysis to uncover meaningful insights about seasonal sales performance."
      ]
    },
    {
      "cell_type": "code",
      "metadata": {},
      "execution_count": null,
      "outputs": [],
      "source": "import pandas as pd\nimport numpy as np\n\nice_cream_sales_data_data = [\n  {\n    \"sale_date\": \"2024-07-05\",\n    \"temperature\": 62,\n    \"product_name\": \"Cherry Garcia\",\n    \"sales_volume\": 23,\n    \"transaction_id\": \"TX0001\"\n  },\n  {\n    \"sale_date\": \"2024-08-15\",\n    \"temperature\": 64,\n    \"product_name\": \"Chunky Monkey\",\n    \"sales_volume\": 26,\n    \"transaction_id\": \"TX0002\"\n  },\n  {\n    \"sale_date\": \"2024-09-25\",\n    \"temperature\": 66,\n    \"product_name\": \"Phish Food\",\n    \"sales_volume\": 29,\n    \"transaction_id\": \"TX0003\"\n  },\n  {\n    \"sale_date\": \"2024-10-05\",\n    \"temperature\": 68,\n    \"product_name\": \"Americone Dream\",\n    \"sales_volume\": 32,\n    \"transaction_id\": \"TX0004\"\n  },\n  {\n    \"sale_date\": \"2024-11-15\",\n    \"temperature\": 70,\n    \"product_name\": \"Chocolate Fudge Brownie\",\n    \"sales_volume\": 35,\n    \"transaction_id\": \"TX0005\"\n  },\n  {\n    \"sale_date\": \"2024-12-25\",\n    \"temperature\": 72,\n    \"product_name\": \"Half Baked\",\n    \"sales_volume\": 38,\n    \"transaction_id\": \"TX0006\"\n  },\n  {\n    \"sale_date\": \"2025-01-05\",\n    \"temperature\": 74,\n    \"product_name\": \"New York Super Fudge Chunk\",\n    \"sales_volume\": 41,\n    \"transaction_id\": \"TX0007\"\n  },\n  {\n    \"sale_date\": \"2025-02-15\",\n    \"temperature\": 76,\n    \"product_name\": \"Cherry Garcia\",\n    \"sales_volume\": 44,\n    \"transaction_id\": \"TX0008\"\n  },\n  {\n    \"sale_date\": \"2025-03-25\",\n    \"temperature\": 78,\n    \"product_name\": \"Chunky Monkey\",\n    \"sales_volume\": 47,\n    \"transaction_id\": \"TX0009\"\n  },\n  {\n    \"sale_date\": \"2025-04-05\",\n    \"temperature\": 80,\n    \"product_name\": \"Phish Food\",\n    \"sales_volume\": 50,\n    \"transaction_id\": \"TX0010\"\n  },\n  {\n    \"sale_date\": \"2025-05-15\",\n    \"temperature\": 82,\n    \"product_name\": \"Americone Dream\",\n    \"sales_volume\": 53,\n    \"transaction_id\": \"TX0011\"\n  },\n  {\n    \"sale_date\": \"2025-06-25\",\n    \"temperature\": 84,\n    \"product_name\": \"Chocolate Fudge Brownie\",\n    \"sales_volume\": 1000,\n    \"transaction_id\": \"TX0012\"\n  },\n  {\n    \"sale_date\": \"2024-07-05\",\n    \"temperature\": 86,\n    \"product_name\": \"Half Baked\",\n    \"sales_volume\": 59,\n    \"transaction_id\": \"TX0013\"\n  },\n  {\n    \"sale_date\": \"2024-08-15\",\n    \"temperature\": 88,\n    \"product_name\": \"New York Super Fudge Chunk\",\n    \"sales_volume\": 62,\n    \"transaction_id\": \"TX0014\"\n  },\n  {\n    \"sale_date\": \"2024-09-25\",\n    \"temperature\": 90,\n    \"product_name\": \"Cherry Garcia\",\n    \"sales_volume\": 65,\n    \"transaction_id\": \"TX0015\"\n  },\n  {\n    \"sale_date\": \"2024-10-05\",\n    \"temperature\": 61,\n    \"product_name\": \"Chunky Monkey\",\n    \"sales_volume\": 68,\n    \"transaction_id\": \"TX0016\"\n  },\n  {\n    \"sale_date\": \"2024-11-15\",\n    \"temperature\": 63,\n    \"product_name\": \"Phish Food\",\n    \"sales_volume\": 71,\n    \"transaction_id\": \"TX0017\"\n  },\n  {\n    \"sale_date\": \"2024-12-25\",\n    \"temperature\": 65,\n    \"product_name\": \"Americone Dream\",\n    \"sales_volume\": 74,\n    \"transaction_id\": \"TX0018\"\n  },\n  {\n    \"sale_date\": \"2025-01-05\",\n    \"temperature\": 67,\n    \"product_name\": \"Chocolate Fudge Brownie\",\n    \"sales_volume\": 77,\n    \"transaction_id\": \"TX0019\"\n  },\n  {\n    \"sale_date\": \"2025-02-15\",\n    \"temperature\": 105,\n    \"product_name\": \"Half Baked\",\n    \"sales_volume\": 80,\n    \"transaction_id\": \"TX0020\"\n  },\n  {\n    \"sale_date\": \"2025-03-25\",\n    \"temperature\": 71,\n    \"product_name\": \"New York Super Fudge Chunk\",\n    \"sales_volume\": 83,\n    \"transaction_id\": \"TX0021\"\n  },\n  {\n    \"sale_date\": \"2025-04-05\",\n    \"temperature\": null,\n    \"product_name\": \"Cherry Garcia\",\n    \"sales_volume\": 86,\n    \"transaction_id\": \"TX0022\"\n  },\n  {\n    \"sale_date\": \"2025-05-15\",\n    \"temperature\": 75,\n    \"product_name\": \"Chunky Monkey\",\n    \"sales_volume\": 89,\n    \"transaction_id\": \"TX0023\"\n  },\n  {\n    \"sale_date\": \"2025-06-25\",\n    \"temperature\": 77,\n    \"product_name\": \"Phish Food\",\n    \"sales_volume\": 92,\n    \"transaction_id\": \"TX0024\"\n  },\n  {\n    \"sale_date\": \"2024-07-05\",\n    \"temperature\": 79,\n    \"product_name\": \"Americone Dream\",\n    \"sales_volume\": 95,\n    \"transaction_id\": \"TX0025\"\n  },\n  {\n    \"sale_date\": \"2024-08-15\",\n    \"temperature\": 81,\n    \"product_name\": \"Chocolate Fudge Brownie\",\n    \"sales_volume\": 98,\n    \"transaction_id\": \"TX0026\"\n  },\n  {\n    \"sale_date\": \"2024-09-25\",\n    \"temperature\": 83,\n    \"product_name\": \"Half Baked\",\n    \"sales_volume\": 101,\n    \"transaction_id\": \"TX0027\"\n  },\n  {\n    \"sale_date\": \"2024-10-05\",\n    \"temperature\": 85,\n    \"product_name\": \"New York Super Fudge Chunk\",\n    \"sales_volume\": 104,\n    \"transaction_id\": \"TX0028\"\n  },\n  {\n    \"sale_date\": \"2024-11-15\",\n    \"temperature\": 87,\n    \"product_name\": \"Cherry Garcia\",\n    \"sales_volume\": 107,\n    \"transaction_id\": \"TX0029\"\n  },\n  {\n    \"sale_date\": \"2024-12-25\",\n    \"temperature\": 89,\n    \"product_name\": \"Chunky Monkey\",\n    \"sales_volume\": 110,\n    \"transaction_id\": \"TX0030\"\n  },\n  {\n    \"sale_date\": \"2025-01-05\",\n    \"temperature\": 60,\n    \"product_name\": \"Phish Food\",\n    \"sales_volume\": 113,\n    \"transaction_id\": \"TX0031\"\n  },\n  {\n    \"sale_date\": \"2025-02-15\",\n    \"temperature\": 62,\n    \"product_name\": \"Americone Dream\",\n    \"sales_volume\": 116,\n    \"transaction_id\": \"TX0032\"\n  },\n  {\n    \"sale_date\": \"2025-03-25\",\n    \"temperature\": 64,\n    \"product_name\": \"Chocolate Fudge Brownie\",\n    \"sales_volume\": 119,\n    \"transaction_id\": \"TX0033\"\n  },\n  {\n    \"sale_date\": \"2025-04-05\",\n    \"temperature\": 66,\n    \"product_name\": \"Half Baked\",\n    \"sales_volume\": 122,\n    \"transaction_id\": \"TX0034\"\n  },\n  {\n    \"sale_date\": \"2025-05-15\",\n    \"temperature\": 68,\n    \"product_name\": \"New York Super Fudge Chunk\",\n    \"sales_volume\": 125,\n    \"transaction_id\": \"TX0035\"\n  },\n  {\n    \"sale_date\": \"2025-06-25\",\n    \"temperature\": 70,\n    \"product_name\": \"Cherry Garcia\",\n    \"sales_volume\": 128,\n    \"transaction_id\": \"TX0036\"\n  },\n  {\n    \"sale_date\": \"2024-07-05\",\n    \"temperature\": 72,\n    \"product_name\": \"Chunky Monkey\",\n    \"sales_volume\": 1200,\n    \"transaction_id\": \"TX0037\"\n  },\n  {\n    \"sale_date\": \"2024-08-15\",\n    \"temperature\": 74,\n    \"product_name\": \"Phish Food\",\n    \"sales_volume\": 134,\n    \"transaction_id\": \"TX0038\"\n  },\n  {\n    \"sale_date\": \"2024-09-25\",\n    \"temperature\": 76,\n    \"product_name\": \"Americone Dream\",\n    \"sales_volume\": 137,\n    \"transaction_id\": \"TX0039\"\n  },\n  {\n    \"sale_date\": \"2024-10-05\",\n    \"temperature\": 78,\n    \"product_name\": \"Chocolate Fudge Brownie\",\n    \"sales_volume\": 140,\n    \"transaction_id\": \"TX0040\"\n  },\n  {\n    \"sale_date\": \"2024-11-15\",\n    \"temperature\": 80,\n    \"product_name\": \"Half Baked\",\n    \"sales_volume\": 143,\n    \"transaction_id\": \"TX0041\"\n  },\n  {\n    \"sale_date\": \"2024-12-25\",\n    \"temperature\": 82,\n    \"product_name\": \"New York Super Fudge Chunk\",\n    \"sales_volume\": 146,\n    \"transaction_id\": \"TX0042\"\n  },\n  {\n    \"sale_date\": \"2025-01-05\",\n    \"temperature\": 84,\n    \"product_name\": \"Cherry Garcia\",\n    \"sales_volume\": 149,\n    \"transaction_id\": \"TX0043\"\n  },\n  {\n    \"sale_date\": \"2025-02-15\",\n    \"temperature\": 86,\n    \"product_name\": \"Chunky Monkey\",\n    \"sales_volume\": 22,\n    \"transaction_id\": \"TX0044\"\n  },\n  {\n    \"sale_date\": \"2025-03-25\",\n    \"temperature\": 40,\n    \"product_name\": \"Phish Food\",\n    \"sales_volume\": 25,\n    \"transaction_id\": \"TX0045\"\n  },\n  {\n    \"sale_date\": \"2025-04-05\",\n    \"temperature\": 90,\n    \"product_name\": \"Americone Dream\",\n    \"sales_volume\": 28,\n    \"transaction_id\": \"TX0046\"\n  },\n  {\n    \"sale_date\": \"2025-05-15\",\n    \"temperature\": 61,\n    \"product_name\": \"Chocolate Fudge Brownie\",\n    \"sales_volume\": 31,\n    \"transaction_id\": \"TX0047\"\n  },\n  {\n    \"sale_date\": \"2025-06-25\",\n    \"temperature\": 63,\n    \"product_name\": \"Half Baked\",\n    \"sales_volume\": 34,\n    \"transaction_id\": \"TX0048\"\n  },\n  {\n    \"sale_date\": \"2024-07-05\",\n    \"temperature\": 65,\n    \"product_name\": \"New York Super Fudge Chunk\",\n    \"sales_volume\": 37,\n    \"transaction_id\": \"TX0049\"\n  },\n  {\n    \"sale_date\": \"2024-08-15\",\n    \"temperature\": 67,\n    \"product_name\": \"Cherry Garcia\",\n    \"sales_volume\": 40,\n    \"transaction_id\": \"TX0050\"\n  },\n  {\n    \"sale_date\": \"2024-09-25\",\n    \"temperature\": 69,\n    \"product_name\": \"Chunky Monkey\",\n    \"sales_volume\": 43,\n    \"transaction_id\": \"TX0051\"\n  },\n  {\n    \"sale_date\": \"2024-10-05\",\n    \"temperature\": 71,\n    \"product_name\": \"Phish Food\",\n    \"sales_volume\": 46,\n    \"transaction_id\": \"TX0052\"\n  },\n  {\n    \"sale_date\": \"2024-11-15\",\n    \"temperature\": 73,\n    \"product_name\": \"Americone Dream\",\n    \"sales_volume\": 49,\n    \"transaction_id\": \"TX0053\"\n  },\n  {\n    \"sale_date\": \"2024-12-25\",\n    \"temperature\": 75,\n    \"product_name\": \"Chocolate Fudge Brownie\",\n    \"sales_volume\": 52,\n    \"transaction_id\": \"TX0054\"\n  },\n  {\n    \"sale_date\": \"2025-01-05\",\n    \"temperature\": null,\n    \"product_name\": \"Half Baked\",\n    \"sales_volume\": 55,\n    \"transaction_id\": \"TX0055\"\n  },\n  {\n    \"sale_date\": \"2025-02-15\",\n    \"temperature\": 79,\n    \"product_name\": \"New York Super Fudge Chunk\",\n    \"sales_volume\": 58,\n    \"transaction_id\": \"TX0056\"\n  },\n  {\n    \"sale_date\": \"2025-03-25\",\n    \"temperature\": 81,\n    \"product_name\": \"Cherry Garcia\",\n    \"sales_volume\": 61,\n    \"transaction_id\": \"TX0057\"\n  },\n  {\n    \"sale_date\": \"2025-04-05\",\n    \"temperature\": 83,\n    \"product_name\": \"Chunky Monkey\",\n    \"sales_volume\": 64,\n    \"transaction_id\": \"TX0058\"\n  },\n  {\n    \"sale_date\": \"2025-05-15\",\n    \"temperature\": 85,\n    \"product_name\": \"Phish Food\",\n    \"sales_volume\": 67,\n    \"transaction_id\": \"TX0059\"\n  },\n  {\n    \"sale_date\": \"2025-06-25\",\n    \"temperature\": 87,\n    \"product_name\": \"Americone Dream\",\n    \"sales_volume\": 70,\n    \"transaction_id\": \"TX0060\"\n  },\n  {\n    \"sale_date\": \"2024-12-25\",\n    \"temperature\": 89,\n    \"product_name\": \"Chunky Monkey\",\n    \"sales_volume\": 110,\n    \"transaction_id\": \"TX0030\"\n  }\n]\nice_cream_sales_data = pd.DataFrame(ice_cream_sales_data_data)\n"
    },
    {
      "cell_type": "markdown",
      "metadata": {},
      "source": [
        "## Question 1\n\nIdentify and remove any duplicate sales transactions from the dataset to ensure accurate analysis of seasonal patterns."
      ]
    },
    {
      "cell_type": "code",
      "metadata": {},
      "execution_count": null,
      "outputs": [],
      "source": "import pandas as pd\n\n# Convert sale_date to datetime if not already\nice_cream_sales_data['sale_date'] = pd.to_datetime(ice_cream_sales_data['sale_date'])\n\n# Check initial number of rows\ninitial_count = len(ice_cream_sales_data)\n\n# Remove duplicate rows\nice_cream_sales_data_cleaned = ice_cream_sales_data.drop_duplicates()\n\n# Check final number of rows\nfinal_count = len(ice_cream_sales_data_cleaned)\n\n# Calculate and report the number of duplicates removed\nduplicates_removed = initial_count - final_count\n\nprint(f\" Number of duplicate transactions removed: {duplicates_removed}\")"
    },
    {
      "cell_type": "markdown",
      "metadata": {},
      "source": [
        "## Question 2\n\nCreate a pivot table to summarize the total sales volume of ice cream products by month and temperature range.\nUse the following temperature bins where each bin excludes the upper bound but includes the lower bound:\n- Less than 60 degrees\n- 60 to less than 70 degrees\n- 70 to less than 80 degrees\n- 80 to less than 90 degrees\n- 90 to less than 100 degrees\n- 100 degrees or more"
      ]
    },
    {
      "cell_type": "code",
      "metadata": {},
      "execution_count": null,
      "outputs": [],
      "source": "import pandas as pd\n\n# Make sure sale_date is in datetime format\nice_cream_sales_data['sale_date'] = pd.to_datetime(ice_cream_sales_data['sale_date'])\n\n# Extract month in 'YYYY-MM' format\nice_cream_sales_data['month'] = ice_cream_sales_data['sale_date'].dt.to_period('M').astype(str)\n\n# Define temperature bins and labels\nbins = [-float('inf'), 60, 70, 80, 90, 100, float('inf')]\nlabels = [\n    'Less than 60',\n    '60 to <70',\n    '70 to <80',\n    '80 to <90',\n    '90 to <100',\n    '100 or more'\n]\n\n# Create temperature range category\nice_cream_sales_data['temp_range'] = pd.cut(\n    ice_cream_sales_data['temperature'],\n    bins=bins,\n    labels=labels,\n    right=False  # Exclude upper bound, include lower\n)\n\n# Create pivot table: total sales_volume by month and temp_range\npivot_table = pd.pivot_table(\n    ice_cream_sales_data,\n    index='month',\n    columns='temp_range',\n    values='sales_volume',\n    aggfunc='sum',\n    fill_value=0\n)\n\n# Display the result\nprint(pivot_table)"
    },
    {
      "cell_type": "markdown",
      "metadata": {},
      "source": [
        "## Question 3\n\nCan you detect any outliers in the monthly sales volume using the Inter Quartile Range (IQR) method? A month is considered an outlier if falls below Q1 minus 1.5 times the IQR or above Q3 plus 1.5 times the IQR."
      ]
    },
    {
      "cell_type": "code",
      "metadata": {},
      "execution_count": null,
      "outputs": [],
      "source": "import pandas as pd\n\n# Convert sale_date to datetime\nice_cream_sales_data['sale_date'] = pd.to_datetime(ice_cream_sales_data['sale_date'])\n\n# Extract month as 'YYYY-MM'\nice_cream_sales_data['month'] = ice_cream_sales_data['sale_date'].dt.to_period('M').astype(str)\n\n# Aggregate total sales_volume per month\nmonthly_sales = ice_cream_sales_data.groupby('month')['sales_volume'].sum().reset_index()\n\n# Compute Q1, Q3, and IQR\nQ1 = monthly_sales['sales_volume'].quantile(0.25)\nQ3 = monthly_sales['sales_volume'].quantile(0.75)\nIQR = Q3 - Q1\n\n# Define bounds for outliers\nlower_bound = Q1 - 1.5 * IQR\nupper_bound = Q3 + 1.5 * IQR\n\n# Detect outliers\noutliers = monthly_sales[\n    (monthly_sales['sales_volume'] < lower_bound) |\n    (monthly_sales['sales_volume'] > upper_bound)\n]\n\n# Show outlier months\nprint(\"Outlier months based on IQR method:\")\nprint(outliers)"
    },
    {
      "cell_type": "markdown",
      "metadata": {},
      "source": [
        "Made with ❤️ by [Interview Master](https://www.interviewmaster.ai)"
      ]
    }
  ],
  "metadata": {
    "kernelspec": {
      "name": "python3",
      "language": "python",
      "display_name": "Python 3"
    },
    "language_info": {
      "name": "python",
      "version": "3",
      "mimetype": "text/x-python",
      "file_extension": ".py"
    }
  },
  "nbformat": 4,
  "nbformat_minor": 5
}