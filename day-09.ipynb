{
  "cells": [
    {
      "cell_type": "markdown",
      "metadata": {},
      "source": [
        "# Day 9: Instagram Stories Daily User Creation Patterns"
      ]
    },
    {
      "cell_type": "markdown",
      "metadata": {},
      "source": [
        "You are a Product Analyst on the Instagram Stories team investigating story creation patterns. The team wants to understand the distribution of stories created by users daily. You will analyze user storytelling behavior to optimize engagement strategies."
      ]
    },
    {
      "cell_type": "code",
      "metadata": {},
      "execution_count": null,
      "outputs": [],
      "source": "import pandas as pd\nimport numpy as np\n\nstories_data_data = [\n  {\n    \"user_id\": \"user_001\",\n    \"story_date\": \"2024-07-03\",\n    \"story_count\": 3\n  },\n  {\n    \"user_id\": \"user_001\",\n    \"story_date\": \"2024-07-03\",\n    \"story_count\": 3\n  },\n  {\n    \"user_id\": \"user_001\",\n    \"story_date\": \"2024-08-15\",\n    \"story_count\": 5\n  },\n  {\n    \"user_id\": \"user_001\",\n    \"story_date\": \"2024-09-10\",\n    \"story_count\": 0\n  },\n  {\n    \"user_id\": \"user_001\",\n    \"story_date\": \"2024-10-05\",\n    \"story_count\": 20\n  },\n  {\n    \"user_id\": \"user_001\",\n    \"story_date\": \"07/15/2024\",\n    \"story_count\": 2\n  },\n  {\n    \"user_id\": \"user_002\",\n    \"story_date\": \"2024-07-03\",\n    \"story_count\": 4\n  },\n  {\n    \"user_id\": \" user_002\",\n    \"story_date\": \"2024-07-04\",\n    \"story_count\": 3\n  },\n  {\n    \"user_id\": \"user_002\",\n    \"story_date\": null,\n    \"story_count\": 6\n  },\n  {\n    \"user_id\": \"user_002\",\n    \"story_date\": \"2024-12-25\",\n    \"story_count\": 1\n  },\n  {\n    \"user_id\": \"user_002\",\n    \"story_date\": \"2025-01-15\",\n    \"story_count\": 7\n  },\n  {\n    \"user_id\": \"user_002\",\n    \"story_date\": \"2025-06-29\",\n    \"story_count\": 10\n  },\n  {\n    \"user_id\": \"user_003\",\n    \"story_date\": \"2024-07-10\",\n    \"story_count\": 2\n  },\n  {\n    \"user_id\": \"user_003\",\n    \"story_date\": \"2024-08-20\",\n    \"story_count\": 8\n  },\n  {\n    \"user_id\": \"user_003\",\n    \"story_date\": \"2024-08-20\",\n    \"story_count\": 8\n  },\n  {\n    \"user_id\": \"user_003\",\n    \"story_date\": \"2025-03-11\",\n    \"story_count\": 5\n  },\n  {\n    \"user_id\": null,\n    \"story_date\": \"2025-03-12\",\n    \"story_count\": 3\n  },\n  {\n    \"user_id\": \"USER_003\",\n    \"story_date\": \"2025-04-01\",\n    \"story_count\": 4\n  },\n  {\n    \"user_id\": \"user_004\",\n    \"story_date\": \"2024-07-15\",\n    \"story_count\": 6\n  },\n  {\n    \"user_id\": \"user_004\",\n    \"story_date\": \"2024-09-30\",\n    \"story_count\": 7\n  },\n  {\n    \"user_id\": \"user_004\",\n    \"story_date\": \"2024/10/10\",\n    \"story_count\": 4\n  },\n  {\n    \"user_id\": \"user_004\",\n    \"story_date\": \"2024-11-11\",\n    \"story_count\": 3\n  },\n  {\n    \"user_id\": \"user_004\",\n    \"story_date\": \"2025-02-28\",\n    \"story_count\": 12\n  },\n  {\n    \"user_id\": \"user_004\",\n    \"story_date\": \"2025-03-01\",\n    \"story_count\": 0\n  },\n  {\n    \"user_id\": \"user_005\",\n    \"story_date\": \"2024-08-01\",\n    \"story_count\": 1\n  },\n  {\n    \"user_id\": \"user_005\",\n    \"story_date\": \"2024-08-02\",\n    \"story_count\": 2\n  },\n  {\n    \"user_id\": \"user_005\",\n    \"story_date\": \"2024-08-03\",\n    \"story_count\": 3\n  },\n  {\n    \"user_id\": \"user_005\",\n    \"story_date\": \"2024-08-04\",\n    \"story_count\": 4\n  },\n  {\n    \"user_id\": \"user_005\",\n    \"story_date\": \"2024-08-05\",\n    \"story_count\": null\n  },\n  {\n    \"user_id\": \"user_005\",\n    \"story_date\": \"2024-08-06\",\n    \"story_count\": 5\n  },\n  {\n    \"user_id\": \"user_006\",\n    \"story_date\": \"2024-09-01\",\n    \"story_count\": 9\n  },\n  {\n    \"user_id\": \"user_006\",\n    \"story_date\": \"2024-09-02\",\n    \"story_count\": 10\n  },\n  {\n    \"user_id\": \"user_006\",\n    \"story_date\": \"2024-09-03\",\n    \"story_count\": 9\n  },\n  {\n    \"user_id\": \"user_006\",\n    \"story_date\": \"2024-09-04\",\n    \"story_count\": 50\n  },\n  {\n    \"user_id\": \"user_006\",\n    \"story_date\": \"2024-09-05\",\n    \"story_count\": 8\n  },\n  {\n    \"user_id\": \"user_006\",\n    \"story_date\": null,\n    \"story_count\": 7\n  },\n  {\n    \"user_id\": \"user_007\",\n    \"story_date\": \"2024-10-10\",\n    \"story_count\": 4\n  },\n  {\n    \"user_id\": \"user_007\",\n    \"story_date\": \"2024-10-11\",\n    \"story_count\": 4\n  },\n  {\n    \"user_id\": \"user_007\",\n    \"story_date\": \"2024-10-12\",\n    \"story_count\": 4\n  },\n  {\n    \"user_id\": \"user_007\",\n    \"story_date\": \"2024-10-13\",\n    \"story_count\": 3\n  },\n  {\n    \"user_id\": \"user_007\",\n    \"story_date\": \"2024-10-14\",\n    \"story_count\": 2\n  },\n  {\n    \"user_id\": \"user_007\",\n    \"story_date\": \"2024-10-15\",\n    \"story_count\": 1\n  },\n  {\n    \"user_id\": \"user_008\",\n    \"story_date\": \"2025-01-01\",\n    \"story_count\": 11\n  },\n  {\n    \"user_id\": \"user_008\",\n    \"story_date\": \"2025-01-02\",\n    \"story_count\": 12\n  },\n  {\n    \"user_id\": \"user_008\",\n    \"story_date\": \"2025-01-03\",\n    \"story_count\": 13\n  },\n  {\n    \"user_id\": \"user_008\",\n    \"story_date\": \"2025-01-04\",\n    \"story_count\": 14\n  },\n  {\n    \"user_id\": \"user_008\",\n    \"story_date\": \"2025-01-05\",\n    \"story_count\": 15\n  },\n  {\n    \"user_id\": \"user_008\",\n    \"story_date\": \"2025-01-06\",\n    \"story_count\": 0\n  },\n  {\n    \"user_id\": \"user_009\",\n    \"story_date\": \"2024-12-01\",\n    \"story_count\": 1\n  },\n  {\n    \"user_id\": \"user_009\",\n    \"story_date\": \"2024-12-02\",\n    \"story_count\": 2\n  },\n  {\n    \"user_id\": \"user_009\",\n    \"story_date\": \"2024-12-03\",\n    \"story_count\": 3\n  },\n  {\n    \"user_id\": \"user_009\",\n    \"story_date\": \"2024-12-04\",\n    \"story_count\": 4\n  },\n  {\n    \"user_id\": \"user_009\",\n    \"story_date\": \"2024-12-05\",\n    \"story_count\": 5\n  },\n  {\n    \"user_id\": \"user_009\",\n    \"story_date\": \"invalid_date\",\n    \"story_count\": 6\n  },\n  {\n    \"user_id\": \"user_010\",\n    \"story_date\": \"2025-03-15\",\n    \"story_count\": 7\n  },\n  {\n    \"user_id\": \"user_010\",\n    \"story_date\": \"2025-03-16\",\n    \"story_count\": 8\n  },\n  {\n    \"user_id\": \"user_010\",\n    \"story_date\": \"2025-03-17\",\n    \"story_count\": 9\n  },\n  {\n    \"user_id\": \"user_010\",\n    \"story_date\": \"2025-03-18\",\n    \"story_count\": 10\n  },\n  {\n    \"user_id\": \"user_010\",\n    \"story_date\": \"2025-03-19\",\n    \"story_count\": 11\n  },\n  {\n    \"user_id\": \"user_010\",\n    \"story_date\": \"2025-03-20\",\n    \"story_count\": 12\n  }\n]\nstories_data = pd.DataFrame(stories_data_data)\n"
    },
    {
      "cell_type": "markdown",
      "metadata": {},
      "source": [
        "## Question 1\n\nTake a look at the data in the story_date column. Correct any data type inconsistencies in that column."
      ]
    },
    {
      "cell_type": "code",
      "metadata": {},
      "execution_count": null,
      "outputs": [],
      "source": "# Step 1: Check current data types\nprint(stories_data['story_date'].dtype)\n\n# Step 2: Convert to datetime, coerce errors to NaT\nstories_data['story_date'] = pd.to_datetime(\n    stories_data['story_date'], \n    errors='coerce',      # invalid formats become NaT\n    infer_datetime_format=True\n)\n\n# Step 3: Check for any nulls after conversion (these were invalid dates)\ninvalid_dates = stories_data[stories_data['story_date'].isna()]\nprint(\"Invalid dates found:\")\nprint(invalid_dates)\n\n# Step 4 (Optional): Remove or correct invalid rows\nstories_data = stories_data.dropna(subset=['story_date'])\n\n# Step 5: Confirm all dates are now consistent\nprint(stories_data['story_date'].dtype)"
    },
    {
      "cell_type": "markdown",
      "metadata": {},
      "source": [
        "## Question 2\n\nCalculate the 25th, 50th, and 75th percentiles of the number of stories created per user per day."
      ]
    },
    {
      "cell_type": "code",
      "metadata": {},
      "execution_count": null,
      "outputs": [],
      "source": "# Step 1: Aggregate stories per user per day\nstories_per_user_day = (\n    stories_data\n    .groupby(['user_id', 'story_date'], as_index=False)['story_count']\n    .sum()\n)\n\n# Step 2: Calculate percentiles\npercentiles = stories_per_user_day['story_count'].quantile([0.25, 0.5, 0.75])\n\n# Step 3: Display results\npercentiles_df = percentiles.reset_index()\npercentiles_df.columns = ['percentile', 'story_count']\nprint(percentiles_df)"
    },
    {
      "cell_type": "markdown",
      "metadata": {},
      "source": [
        "## Question 3\n\nWhat percentage of users have had at least one day, where they posted more than 10 stories on that day?"
      ]
    },
    {
      "cell_type": "code",
      "metadata": {},
      "execution_count": null,
      "outputs": [],
      "source": "# Identify users with at least one day over 10 stories\nusers_over_10 = df.loc[df['story_count'] > 10, 'user_id'].unique()\n\n# Calculate percentage\npercentage = len(users_over_10) / df['user_id'].nunique() * 100\n\nprint(round(percentage, 2))"
    },
    {
      "cell_type": "markdown",
      "metadata": {},
      "source": [
        "Made with ❤️ by [Interview Master](https://www.interviewmaster.ai)"
      ]
    }
  ],
  "metadata": {
    "kernelspec": {
      "name": "python3",
      "language": "python",
      "display_name": "Python 3"
    },
    "language_info": {
      "name": "python",
      "version": "3",
      "mimetype": "text/x-python",
      "file_extension": ".py"
    }
  },
  "nbformat": 4,
  "nbformat_minor": 5
}