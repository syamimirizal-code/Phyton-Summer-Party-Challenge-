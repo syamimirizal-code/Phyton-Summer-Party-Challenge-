{
  "cells": [
    {
      "cell_type": "markdown",
      "metadata": {},
      "source": [
        "# Day 11: Payment Fraud Risk Detection in Online Transactions"
      ]
    },
    {
      "cell_type": "markdown",
      "metadata": {},
      "source": [
        "You are a data analyst in Stripe's risk management team investigating transaction patterns to identify potential fraud. The team needs to develop a systematic approach to screen transactions for financial risks. Your goal is to create an initial risk assessment methodology using transaction characteristics."
      ]
    },
    {
      "cell_type": "code",
      "metadata": {},
      "execution_count": null,
      "outputs": [],
      "source": "import pandas as pd\nimport numpy as np\n\ndim_risk_flags_data = [\n  {\n    \"risk_level\": \"Low\",\n    \"risk_flag_id\": 1,\n    \"transaction_id\": 2\n  },\n  {\n    \"risk_level\": \"Medium\",\n    \"risk_flag_id\": 2,\n    \"transaction_id\": 7\n  },\n  {\n    \"risk_level\": \"High\",\n    \"risk_flag_id\": 3,\n    \"transaction_id\": 11\n  },\n  {\n    \"risk_level\": \"High\",\n    \"risk_flag_id\": 4,\n    \"transaction_id\": 12\n  },\n  {\n    \"risk_level\": \"High\",\n    \"risk_flag_id\": 5,\n    \"transaction_id\": 13\n  },\n  {\n    \"risk_level\": \"Medium\",\n    \"risk_flag_id\": 6,\n    \"transaction_id\": 14\n  },\n  {\n    \"risk_level\": \"High\",\n    \"risk_flag_id\": 7,\n    \"transaction_id\": 15\n  },\n  {\n    \"risk_level\": \"Low\",\n    \"risk_flag_id\": 8,\n    \"transaction_id\": 1\n  },\n  {\n    \"risk_level\": \"Medium\",\n    \"risk_flag_id\": 9,\n    \"transaction_id\": 6\n  },\n  {\n    \"risk_level\": \"Low\",\n    \"risk_flag_id\": 10,\n    \"transaction_id\": 3\n  }\n]\ndim_risk_flags = pd.DataFrame(dim_risk_flags_data)\n\nfct_transactions_data = [\n  {\n    \"customer_email\": \"alice@gmail.com\",\n    \"transaction_id\": 1,\n    \"transaction_date\": \"2024-10-05\",\n    \"transaction_amount\": 120,\n    \"fraud_detection_score\": 10\n  },\n  {\n    \"customer_email\": \"bob@customdomain.com\",\n    \"transaction_id\": 2,\n    \"transaction_date\": \"2024-10-15\",\n    \"transaction_amount\": 250.5,\n    \"fraud_detection_score\": 20\n  },\n  {\n    \"customer_email\": \"charlie@yahoo.com\",\n    \"transaction_id\": 3,\n    \"transaction_date\": \"2024-10-20\",\n    \"transaction_amount\": 75.25,\n    \"fraud_detection_score\": 15\n  },\n  {\n    \"customer_email\": \"dana@hotmail.com\",\n    \"transaction_id\": 4,\n    \"transaction_date\": \"2024-10-25\",\n    \"transaction_amount\": 100,\n    \"fraud_detection_score\": 30\n  },\n  {\n    \"customer_email\": \"eve@biz.org\",\n    \"transaction_id\": 5,\n    \"transaction_date\": \"2024-10-30\",\n    \"transaction_amount\": 300,\n    \"fraud_detection_score\": 40\n  },\n  {\n    \"customer_email\": \"frank@gmail.com\",\n    \"transaction_id\": 6,\n    \"transaction_date\": \"2024-11-03\",\n    \"transaction_amount\": 150.75,\n    \"fraud_detection_score\": 25\n  },\n  {\n    \"customer_email\": \"grace@outlook.com\",\n    \"transaction_id\": 7,\n    \"transaction_date\": \"2024-11-10\",\n    \"transaction_amount\": null,\n    \"fraud_detection_score\": 50\n  },\n  {\n    \"customer_email\": \"ivan@yahoo.com\",\n    \"transaction_id\": 8,\n    \"transaction_date\": \"2024-11-15\",\n    \"transaction_amount\": 200,\n    \"fraud_detection_score\": 35\n  },\n  {\n    \"customer_email\": \"judy@hotmail.com\",\n    \"transaction_id\": 9,\n    \"transaction_date\": \"2024-11-21\",\n    \"transaction_amount\": 250,\n    \"fraud_detection_score\": 45\n  },\n  {\n    \"customer_email\": \"ken@domain.net\",\n    \"transaction_id\": 10,\n    \"transaction_date\": \"2024-11-29\",\n    \"transaction_amount\": 300,\n    \"fraud_detection_score\": 55\n  },\n  {\n    \"customer_email\": \"laura@riskmail.com\",\n    \"transaction_id\": 11,\n    \"transaction_date\": \"2024-12-02\",\n    \"transaction_amount\": 100,\n    \"fraud_detection_score\": 80\n  },\n  {\n    \"customer_email\": \"mike@securepay.com\",\n    \"transaction_id\": 12,\n    \"transaction_date\": \"2024-12-03\",\n    \"transaction_amount\": 180,\n    \"fraud_detection_score\": 85\n  },\n  {\n    \"customer_email\": \"nina@trusthub.com\",\n    \"transaction_id\": 13,\n    \"transaction_date\": \"2024-12-09\",\n    \"transaction_amount\": 220,\n    \"fraud_detection_score\": 90\n  },\n  {\n    \"customer_email\": \"oscar@fintech.com\",\n    \"transaction_id\": 14,\n    \"transaction_date\": \"2024-12-16\",\n    \"transaction_amount\": 140,\n    \"fraud_detection_score\": 70\n  },\n  {\n    \"customer_email\": \"paula@alertsys.com\",\n    \"transaction_id\": 15,\n    \"transaction_date\": \"2024-12-23\",\n    \"transaction_amount\": 260,\n    \"fraud_detection_score\": 95\n  }\n]\nfct_transactions = pd.DataFrame(fct_transactions_data)\n"
    },
    {
      "cell_type": "markdown",
      "metadata": {},
      "source": [
        "## Question 1\n\nHow many transactions in October 2024 have a customer email ending with a domain other than 'gmail.com', 'yahoo.com', or 'hotmail.com'? This metric will help us identify transactions associated with less common email providers that may indicate emerging risk patterns."
      ]
    },
    {
      "cell_type": "code",
      "metadata": {},
      "execution_count": null,
      "outputs": [],
      "source": "# Note: pandas and numpy are already imported as pd and np\n# The following tables are loaded as pandas DataFrames with the same names: fct_transactions, dim_risk_flags\n# Please print your final result or dataframe\n\n#ensure transaction_date is datetime\ndf['transaction_date'] = pd.to_datetime(df['transaction_date'])\n\n# Filter only for october 2024\noctober_date = df[\n  (df['transaction_date'].dt.year == 2024) &\n  (df['transaction_date'].dt.month == 10)\n]\n\n# Keep only email except ending with gmail.com, yahoo.com and hotmail.com\nmask = ~october_date['customer_email'].str.lower().str.endswith(('gmail.com','yahoo.com','hotmail.com'))\n\n# Count\ncount_non_common = october_date[mask].shape[0]\nprint(count_non_common)"
    },
    {
      "cell_type": "markdown",
      "metadata": {},
      "source": [
        "## Question 2\n\nFor transactions occurring in November 2024, what is the average transaction amount, using 0 as a default for any missing values? This calculation will help us detect abnormal transaction amounts that could be related to fraudulent activity."
      ]
    },
    {
      "cell_type": "code",
      "metadata": {},
      "execution_count": null,
      "outputs": [],
      "source": "#ensure transaction_date is datetime\ndf['transaction_date'] = pd.to_datetime(df['transaction_date'])\n\n# Filter only for November 2024\nnov_date = df[\n  (df['transaction_date'].dt.year == 2024) &\n  (df['transaction_date'].dt.month == 11)\n]\n\n# Fill missing with 0 and compute mean\navg_amount = nov_date['transaction_amount'].fillna(0).mean()\nprint(avg_amount)"
    },
    {
      "cell_type": "markdown",
      "metadata": {},
      "source": [
        "## Question 3\n\nAmong transactions flagged as 'High' risk in December 2024, which day of the week recorded the highest number of such transactions? This analysis is intended to pinpoint specific days with concentrated high-risk activity and support the development of our preliminary fraud detection score."
      ]
    },
    {
      "cell_type": "code",
      "metadata": {},
      "execution_count": null,
      "outputs": [],
      "source": "#merge transaction with risk flags tables\nmerged = fct_transactions.merge(dim_risk_flags, on='transaction_id')\n\n#ensure transaction_date is datetime\ndf['transaction_date'] = pd.to_datetime(df['transaction_date'])\n\n#filter only for high risk in december 2024\ndec_high = merged[\n  (merged['risk_level'] == 'High') &\n  (merged['transaction_date'].dt.year == 2024) &\n  (merged['transaction_date'].dt.month == 12)\n]\n\n#find day of week with the highest transaction_amount\ntop_day = (\n  dec_high['transaction_date'].dt.day_name()\n  .value_counts()\n  .idxmax()\n)\n\nprint(top_day)"
    },
    {
      "cell_type": "markdown",
      "metadata": {},
      "source": [
        "Made with ❤️ by [Interview Master](https://www.interviewmaster.ai)"
      ]
    }
  ],
  "metadata": {
    "kernelspec": {
      "name": "python3",
      "language": "python",
      "display_name": "Python 3"
    },
    "language_info": {
      "name": "python",
      "version": "3",
      "mimetype": "text/x-python",
      "file_extension": ".py"
    }
  },
  "nbformat": 4,
  "nbformat_minor": 5
}